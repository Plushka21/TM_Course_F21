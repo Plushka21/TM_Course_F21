{
  "nbformat": 4,
  "nbformat_minor": 0,
  "metadata": {
    "colab": {
      "name": "TM_HW5.ipynb",
      "provenance": [],
      "collapsed_sections": []
    },
    "kernelspec": {
      "name": "python3",
      "display_name": "Python 3"
    },
    "language_info": {
      "name": "python"
    }
  },
  "cells": [
    {
      "cell_type": "markdown",
      "metadata": {
        "id": "M5fPhhAvoy77"
      },
      "source": [
        "# Coding tasks for TM HW5\n",
        "---\n",
        "#### Anton Buguev B19-RO-01\n",
        "#### a.buguev@innopolis.university"
      ]
    },
    {
      "cell_type": "markdown",
      "metadata": {
        "id": "bZP00KkPpHB8"
      },
      "source": [
        "## Task 1"
      ]
    },
    {
      "cell_type": "markdown",
      "metadata": {
        "id": "UjQhXphguAKw"
      },
      "source": [
        "#### Initialize constants"
      ]
    },
    {
      "cell_type": "code",
      "metadata": {
        "id": "TbHg39pYLj-5"
      },
      "source": [
        "import numpy as np\n",
        "import matplotlib.pyplot as plt\n",
        "\n",
        "k = 1.3 * 10**(-5)\n",
        "m = 13.6 * 10**(-3)\n",
        "L = 1500\n",
        "v0 = 870\n",
        "g = 9.8"
      ],
      "execution_count": 17,
      "outputs": []
    },
    {
      "cell_type": "markdown",
      "metadata": {
        "id": "s3G_EMRvuClF"
      },
      "source": [
        "#### Define function to calculate trajectory"
      ]
    },
    {
      "cell_type": "code",
      "metadata": {
        "id": "BJwpRZAuqtm9"
      },
      "source": [
        "def calculate_trajectory(angles, dt):\n",
        "  result = []\n",
        "  for i in range(len(angles)):\n",
        "    # For each of the angles calculate horizontal distance taking into account air resistance\n",
        "    x = [0]\n",
        "    y = [0]\n",
        "    vx = [v0 * np.cos(angles[i])]\n",
        "    vy = [v0 * np.sin(angles[i])]\n",
        "    ax = []\n",
        "    ay = []\n",
        "\n",
        "    j = 0\n",
        "    while y[j] >= 0:\n",
        "      # Calculate until y coordinate will not be 0 again\n",
        "        vc = np.sqrt(vx[j]**2 + vy[j]**2)\n",
        "        ax.append(-k / m * vc * vx[j])\n",
        "        ay.append(-g - k / m * vc * vy[j])\n",
        "\n",
        "        vx.append(vx[j] + ax[j] * dt)\n",
        "        vy.append(vy[j] + ay[j] * dt)\n",
        "\n",
        "        x.append(x[j] + vx[j] * dt + 1 / 2 * ax[j] * dt ** 2)\n",
        "        y.append(y[j] + vy[j] * dt + 1 / 2 * ay[j] * dt ** 2)\n",
        "        j += 1\n",
        "    # Array that contains initial angle and distance of the flight\n",
        "    result.append([angles[i], x[-1]])\n",
        "  \n",
        "  return result"
      ],
      "execution_count": 18,
      "outputs": []
    },
    {
      "cell_type": "markdown",
      "metadata": {
        "id": "yoLR6LFhuI6Y"
      },
      "source": [
        "#### Calculate trajectory for angles from 0 to $ \\frac{pi}{4} $ because if angle is greater than $ \\frac{pi}{4} $ distance of the flight will not increase anymore."
      ]
    },
    {
      "cell_type": "code",
      "metadata": {
        "id": "C93fY2ruq8GF"
      },
      "source": [
        "dt = 0.01\n",
        "angles = np.arange(0, np.pi / 4, 0.01)\n",
        "initial_result = calculate_trajectory(angles=angles, dt=dt)"
      ],
      "execution_count": 19,
      "outputs": []
    },
    {
      "cell_type": "markdown",
      "metadata": {
        "id": "sRQXSWoKul1q"
      },
      "source": [
        "#### Function to find angle with nearest length of fly"
      ]
    },
    {
      "cell_type": "code",
      "metadata": {
        "id": "yhWhTw9fezvF"
      },
      "source": [
        "def find_nearest(array, value):\n",
        "    array = np.asarray(array)\n",
        "    idx = (np.abs(array[:,1] - value)).argmin()\n",
        "    return idx, array[idx]"
      ],
      "execution_count": 20,
      "outputs": []
    },
    {
      "cell_type": "markdown",
      "metadata": {
        "id": "1Nl_yt0MuqiX"
      },
      "source": [
        "#### Find 2 best angles"
      ]
    },
    {
      "cell_type": "code",
      "metadata": {
        "id": "HG_GPIreacJO"
      },
      "source": [
        "# Sort values by initial angle\n",
        "initial_result = sorted(initial_result, key=lambda l:l[0])\n",
        "best_angles = initial_result.copy()\n",
        "\n",
        "# Find 2 best results by distance of the flight\n",
        "index, best_res1 = find_nearest(best_angles, L)\n",
        "best_angles = np.delete(best_angles, index, axis=0)\n",
        "index, best_res2 = find_nearest(best_angles, L)\n",
        "best_angles = np.delete(best_angles, index, axis=0)"
      ],
      "execution_count": 21,
      "outputs": []
    },
    {
      "cell_type": "markdown",
      "metadata": {
        "id": "3JS_7xmAutsA"
      },
      "source": [
        "#### Calculate trajectory again for angles between to best angles to find the most optimal value for angle $\\alpha$."
      ]
    },
    {
      "cell_type": "code",
      "metadata": {
        "id": "sokVyd3qpR4g"
      },
      "source": [
        "# In range between 2 best angles find the most suitable angle\n",
        "small_angles = np.arange(best_res1[0], best_res2[0], 0.0001)\n",
        "dt = 0.001\n",
        "final_result = calculate_trajectory(small_angles, dt)\n",
        "\n",
        "# Find the best angle by nearest value of distance of the flight\n",
        "idx, best_res = find_nearest(final_result, L)"
      ],
      "execution_count": 22,
      "outputs": []
    },
    {
      "cell_type": "markdown",
      "metadata": {
        "id": "5YV5jDjYvDOq"
      },
      "source": [
        "#### Function to calculate the best trajectory and plot air resistance force."
      ]
    },
    {
      "cell_type": "code",
      "metadata": {
        "id": "-JIz37y3vKis"
      },
      "source": [
        "def calculate_final_trajectory(angle, dt):\n",
        "  x = [0]\n",
        "  y = [0]\n",
        "  vx = [v0 * np.cos(angle)]\n",
        "  vy = [v0 * np.sin(angle)]\n",
        "  ax = []\n",
        "  ay = []\n",
        "\n",
        "  t = [0]\n",
        "  F = [k * v0 ** 2]\n",
        "\n",
        "  j = 0\n",
        "  while y[j] >= 0:\n",
        "    vc = np.sqrt(vx[j]**2 + vy[j]**2)\n",
        "    ax.append(-k / m * vc * vx[j])\n",
        "    ay.append(-g - k / m * vc * vy[j])\n",
        "    \n",
        "    vx.append(vx[j] + ax[j] * dt)\n",
        "    vy.append(vy[j] + ay[j] * dt)\n",
        "    \n",
        "    x.append(x[j] + vx[j] * dt + 1 / 2 * ax[j] * dt ** 2)\n",
        "    y.append(y[j] + vy[j] * dt + 1 / 2 * ay[j] * dt ** 2)\n",
        "\n",
        "    t.append(t[j] + dt)\n",
        "    F.append(k * vc ** 2)\n",
        "    j += 1\n",
        "  \n",
        "  return t, F"
      ],
      "execution_count": 23,
      "outputs": []
    },
    {
      "cell_type": "markdown",
      "metadata": {
        "id": "DK7Ux8fVxVWT"
      },
      "source": [
        "#### Find air resistance force"
      ]
    },
    {
      "cell_type": "code",
      "metadata": {
        "colab": {
          "base_uri": "https://localhost:8080/",
          "height": 418
        },
        "id": "I4TPrCaSwQSV",
        "outputId": "b0a7a31b-13d0-4604-f73e-409ada5c5bdf"
      },
      "source": [
        "t, F = calculate_final_trajectory(best_res[0], dt)\n",
        "print(f\"Angle alpha is approximately {np.degrees(best_res[0])} degrees.\\n\")\n",
        "print(f\"Distance of the flight is {best_res[1]}.\\n\")\n",
        "\n",
        "# Plot air resistance force\n",
        "fig, axes = plt.subplots(1, 1, figsize=(5, 5))\n",
        "axes.set_xlabel(\"Time, s\")\n",
        "axes.set_ylabel(\"Force, N\")\n",
        "axes.set_title(\"Air resistance force\")\n",
        "axes.plot(t, F, color='red')\n",
        "axes.grid()"
      ],
      "execution_count": 30,
      "outputs": [
        {
          "output_type": "stream",
          "name": "stdout",
          "text": [
            "Angle alpha is approximately 1.8621128341751747 degrees.\n",
            "\n",
            "Distance of the flight is 1500.338305844075.\n",
            "\n"
          ]
        },
        {
          "output_type": "display_data",
          "data": {
            "image/png": "[encoded data removed]",
            "text/plain": [
              "<Figure size 360x360 with 1 Axes>"
            ]
          },
          "metadata": {
            "needs_background": "light"
          }
        }
      ]
    },
    {
      "cell_type": "markdown",
      "metadata": {
        "id": "kDJtYwfRxb3_"
      },
      "source": [
        "## Task 2"
      ]
    },
    {
      "cell_type": "code",
      "metadata": {
        "colab": {
          "base_uri": "https://localhost:8080/",
          "height": 910
        },
        "id": "Bo1Dmynx_uCY",
        "outputId": "425a35e2-179c-4cb7-f259-8640bd762cef"
      },
      "source": [
        "import numpy as np\n",
        "import matplotlib.pyplot as plt\n",
        "\n",
        "m = 0.02\n",
        "w = np.pi\n",
        "r = 0.5\n",
        "g = 9.8\n",
        "\n",
        "t = [0]\n",
        "dt = 0.00001\n",
        "x = [0]\n",
        "N = [2 * m * w * 0.4 - m * g]\n",
        "\n",
        "i = 0\n",
        "while x[i] <= r:\n",
        "  # Using formulas calculate x(t) and N(t)\n",
        "  C1 = ( - 2 * w + 5 * g * np.sin(w * t[i]) ) / ( 10 * w ** 2)\n",
        "  C2 = (2 * w + 5 * g * np.sin(w * t[i]) ) / ( 10 * w ** 2)\n",
        "  x.append(- g * np.sin(w * t[i]) / (w ** 2) + C1 * np.exp(-w * t[i]) + C2 * np.exp(w * t[i]))\n",
        "  v = - w * (C1 * np.exp(- w * t[i]) - C2 * np.exp(w * t[i]))\n",
        "  N.append(2 * m * w * v - m * g * np.cos(w * t[i]))\n",
        "  t.append(t[i] + dt)\n",
        "  i += 1\n",
        "\n",
        "# Plot results\n",
        "fig, (ax1, ax2) = plt.subplots(2, 1, figsize=(10, 15))\n",
        "\n",
        "ax1.set_title(\"Distance from center\")\n",
        "ax1.set_xlabel(\"Time, s\")\n",
        "ax1.set_ylabel(\"Distance, m\")\n",
        "ax1.plot(t, x, color='red')\n",
        "\n",
        "ax2.set_title(\"Reaction force\")\n",
        "ax2.set_xlabel(\"Time, s\")\n",
        "ax2.set_ylabel(\"Force, N\")\n",
        "ax2.plot(t, N, color='green')\n",
        "\n",
        "ax1.grid()\n",
        "ax2.grid()"
      ],
      "execution_count": 15,
      "outputs": [
        {
          "output_type": "stream",
          "name": "stdout",
          "text": [
            "0.39999999999999997\n"
          ]
        },
        {
          "output_type": "display_data",
          "data": {
            "image/png": "[encoded data removed]",
            "text/plain": [
              "<Figure size 720x1080 with 2 Axes>"
            ]
          },
          "metadata": {
            "needs_background": "light"
          }
        }
      ]
    }
  ]
}